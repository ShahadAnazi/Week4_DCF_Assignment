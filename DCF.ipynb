{
  "nbformat": 4,
  "nbformat_minor": 0,
  "metadata": {
    "colab": {
      "name": "DCF.ipynb",
      "provenance": [],
      "authorship_tag": "ABX9TyPS/BskUrIVMfwoMZ52/T35",
      "include_colab_link": true
    },
    "kernelspec": {
      "name": "python3",
      "display_name": "Python 3"
    },
    "language_info": {
      "name": "python"
    }
  },
  "cells": [
    {
      "cell_type": "markdown",
      "metadata": {
        "id": "view-in-github",
        "colab_type": "text"
      },
      "source": [
        "<a href=\"https://colab.research.google.com/github/ShahadAnazi/Week4_DCF_Assignment/blob/main/DCF.ipynb\" target=\"_parent\"><img src=\"https://colab.research.google.com/assets/colab-badge.svg\" alt=\"Open In Colab\"/></a>"
      ]
    },
    {
      "cell_type": "code",
      "metadata": {
        "id": "0zARGWVwKrnf"
      },
      "source": [
        "#1\n",
        "import pandas "
      ],
      "execution_count": 275,
      "outputs": []
    },
    {
      "cell_type": "code",
      "metadata": {
        "id": "ElehMgW3Kx4Z"
      },
      "source": [
        "growth_factor= 1.18\n",
        "EBITDA_margin= 0.45\n",
        "tax_pct= 0.21\n",
        "cap_ex= 0.03\n",
        "work_cap_growth= 0.06\n",
        "exit_multiple= 32.70\n",
        "discount_factor= 0.94\n"
      ],
      "execution_count": 276,
      "outputs": []
    },
    {
      "cell_type": "code",
      "metadata": {
        "colab": {
          "base_uri": "https://localhost:8080/"
        },
        "id": "07R7n4R7MOrU",
        "outputId": "a97f157e-aa00-4fe5-be68-6bc1a49785c1"
      },
      "source": [
        "#2\n",
        "dates= pandas.date_range(start=\"2022\",end=\"2032\",freq='Y')\n",
        "dates"
      ],
      "execution_count": 277,
      "outputs": [
        {
          "output_type": "execute_result",
          "data": {
            "text/plain": [
              "DatetimeIndex(['2022-12-31', '2023-12-31', '2024-12-31', '2025-12-31',\n",
              "               '2026-12-31', '2027-12-31', '2028-12-31', '2029-12-31',\n",
              "               '2030-12-31', '2031-12-31'],\n",
              "              dtype='datetime64[ns]', freq='A-DEC')"
            ]
          },
          "metadata": {},
          "execution_count": 277
        }
      ]
    },
    {
      "cell_type": "code",
      "metadata": {
        "colab": {
          "base_uri": "https://localhost:8080/",
          "height": 342
        },
        "id": "Ru2NdOW7NhQB",
        "outputId": "b4fcbbad-faaa-4f05-e3e5-f3e35cb167f3"
      },
      "source": [
        "#3\n",
        "model_df=pandas.DataFrame(index=dates)\n",
        "terminal_value_df=pandas.DataFrame()\n",
        "model_df\n"
      ],
      "execution_count": 278,
      "outputs": [
        {
          "output_type": "execute_result",
          "data": {
            "text/html": [
              "<div>\n",
              "<style scoped>\n",
              "    .dataframe tbody tr th:only-of-type {\n",
              "        vertical-align: middle;\n",
              "    }\n",
              "\n",
              "    .dataframe tbody tr th {\n",
              "        vertical-align: top;\n",
              "    }\n",
              "\n",
              "    .dataframe thead th {\n",
              "        text-align: right;\n",
              "    }\n",
              "</style>\n",
              "<table border=\"1\" class=\"dataframe\">\n",
              "  <thead>\n",
              "    <tr style=\"text-align: right;\">\n",
              "      <th></th>\n",
              "    </tr>\n",
              "  </thead>\n",
              "  <tbody>\n",
              "    <tr>\n",
              "      <th>2022-12-31</th>\n",
              "    </tr>\n",
              "    <tr>\n",
              "      <th>2023-12-31</th>\n",
              "    </tr>\n",
              "    <tr>\n",
              "      <th>2024-12-31</th>\n",
              "    </tr>\n",
              "    <tr>\n",
              "      <th>2025-12-31</th>\n",
              "    </tr>\n",
              "    <tr>\n",
              "      <th>2026-12-31</th>\n",
              "    </tr>\n",
              "    <tr>\n",
              "      <th>2027-12-31</th>\n",
              "    </tr>\n",
              "    <tr>\n",
              "      <th>2028-12-31</th>\n",
              "    </tr>\n",
              "    <tr>\n",
              "      <th>2029-12-31</th>\n",
              "    </tr>\n",
              "    <tr>\n",
              "      <th>2030-12-31</th>\n",
              "    </tr>\n",
              "    <tr>\n",
              "      <th>2031-12-31</th>\n",
              "    </tr>\n",
              "  </tbody>\n",
              "</table>\n",
              "</div>"
            ],
            "text/plain": [
              "Empty DataFrame\n",
              "Columns: []\n",
              "Index: [2022-12-31 00:00:00, 2023-12-31 00:00:00, 2024-12-31 00:00:00, 2025-12-31 00:00:00, 2026-12-31 00:00:00, 2027-12-31 00:00:00, 2028-12-31 00:00:00, 2029-12-31 00:00:00, 2030-12-31 00:00:00, 2031-12-31 00:00:00]"
            ]
          },
          "metadata": {},
          "execution_count": 278
        }
      ]
    },
    {
      "cell_type": "code",
      "metadata": {
        "id": "gfxXnMqxQqlD"
      },
      "source": [
        "#4\n",
        "start_rev=222\n",
        "rev_projection=[ start_rev * growth_factor]\n",
        "\n",
        "for i in range(1,len(dates)):\n",
        "  rev_projection.append(rev_projection[i-1]*growth_factor)\n",
        "  \n",
        "model_df['revenue']=rev_projection"
      ],
      "execution_count": 279,
      "outputs": []
    },
    {
      "cell_type": "code",
      "metadata": {
        "colab": {
          "base_uri": "https://localhost:8080/",
          "height": 359
        },
        "id": "-Hkb8I-7WCG3",
        "outputId": "ea277ff6-9cfb-4761-b378-3f8cbb90f7b8"
      },
      "source": [
        "#5\n",
        "model_df[['revenue']]"
      ],
      "execution_count": 280,
      "outputs": [
        {
          "output_type": "execute_result",
          "data": {
            "text/html": [
              "<div>\n",
              "<style scoped>\n",
              "    .dataframe tbody tr th:only-of-type {\n",
              "        vertical-align: middle;\n",
              "    }\n",
              "\n",
              "    .dataframe tbody tr th {\n",
              "        vertical-align: top;\n",
              "    }\n",
              "\n",
              "    .dataframe thead th {\n",
              "        text-align: right;\n",
              "    }\n",
              "</style>\n",
              "<table border=\"1\" class=\"dataframe\">\n",
              "  <thead>\n",
              "    <tr style=\"text-align: right;\">\n",
              "      <th></th>\n",
              "      <th>revenue</th>\n",
              "    </tr>\n",
              "  </thead>\n",
              "  <tbody>\n",
              "    <tr>\n",
              "      <th>2022-12-31</th>\n",
              "      <td>261.960000</td>\n",
              "    </tr>\n",
              "    <tr>\n",
              "      <th>2023-12-31</th>\n",
              "      <td>309.112800</td>\n",
              "    </tr>\n",
              "    <tr>\n",
              "      <th>2024-12-31</th>\n",
              "      <td>364.753104</td>\n",
              "    </tr>\n",
              "    <tr>\n",
              "      <th>2025-12-31</th>\n",
              "      <td>430.408663</td>\n",
              "    </tr>\n",
              "    <tr>\n",
              "      <th>2026-12-31</th>\n",
              "      <td>507.882222</td>\n",
              "    </tr>\n",
              "    <tr>\n",
              "      <th>2027-12-31</th>\n",
              "      <td>599.301022</td>\n",
              "    </tr>\n",
              "    <tr>\n",
              "      <th>2028-12-31</th>\n",
              "      <td>707.175206</td>\n",
              "    </tr>\n",
              "    <tr>\n",
              "      <th>2029-12-31</th>\n",
              "      <td>834.466743</td>\n",
              "    </tr>\n",
              "    <tr>\n",
              "      <th>2030-12-31</th>\n",
              "      <td>984.670757</td>\n",
              "    </tr>\n",
              "    <tr>\n",
              "      <th>2031-12-31</th>\n",
              "      <td>1161.911493</td>\n",
              "    </tr>\n",
              "  </tbody>\n",
              "</table>\n",
              "</div>"
            ],
            "text/plain": [
              "                revenue\n",
              "2022-12-31   261.960000\n",
              "2023-12-31   309.112800\n",
              "2024-12-31   364.753104\n",
              "2025-12-31   430.408663\n",
              "2026-12-31   507.882222\n",
              "2027-12-31   599.301022\n",
              "2028-12-31   707.175206\n",
              "2029-12-31   834.466743\n",
              "2030-12-31   984.670757\n",
              "2031-12-31  1161.911493"
            ]
          },
          "metadata": {},
          "execution_count": 280
        }
      ]
    },
    {
      "cell_type": "code",
      "metadata": {
        "colab": {
          "base_uri": "https://localhost:8080/",
          "height": 359
        },
        "id": "RjXH7gheXMeQ",
        "outputId": "5af7b1e7-8966-488a-b5ba-d85d67f6dad2"
      },
      "source": [
        "#6\n",
        "model_df['EBITDA']=model_df['revenue']*EBITDA_margin\n",
        "\n",
        "model_df"
      ],
      "execution_count": 281,
      "outputs": [
        {
          "output_type": "execute_result",
          "data": {
            "text/html": [
              "<div>\n",
              "<style scoped>\n",
              "    .dataframe tbody tr th:only-of-type {\n",
              "        vertical-align: middle;\n",
              "    }\n",
              "\n",
              "    .dataframe tbody tr th {\n",
              "        vertical-align: top;\n",
              "    }\n",
              "\n",
              "    .dataframe thead th {\n",
              "        text-align: right;\n",
              "    }\n",
              "</style>\n",
              "<table border=\"1\" class=\"dataframe\">\n",
              "  <thead>\n",
              "    <tr style=\"text-align: right;\">\n",
              "      <th></th>\n",
              "      <th>revenue</th>\n",
              "      <th>EBITDA</th>\n",
              "    </tr>\n",
              "  </thead>\n",
              "  <tbody>\n",
              "    <tr>\n",
              "      <th>2022-12-31</th>\n",
              "      <td>261.960000</td>\n",
              "      <td>117.882000</td>\n",
              "    </tr>\n",
              "    <tr>\n",
              "      <th>2023-12-31</th>\n",
              "      <td>309.112800</td>\n",
              "      <td>139.100760</td>\n",
              "    </tr>\n",
              "    <tr>\n",
              "      <th>2024-12-31</th>\n",
              "      <td>364.753104</td>\n",
              "      <td>164.138897</td>\n",
              "    </tr>\n",
              "    <tr>\n",
              "      <th>2025-12-31</th>\n",
              "      <td>430.408663</td>\n",
              "      <td>193.683898</td>\n",
              "    </tr>\n",
              "    <tr>\n",
              "      <th>2026-12-31</th>\n",
              "      <td>507.882222</td>\n",
              "      <td>228.547000</td>\n",
              "    </tr>\n",
              "    <tr>\n",
              "      <th>2027-12-31</th>\n",
              "      <td>599.301022</td>\n",
              "      <td>269.685460</td>\n",
              "    </tr>\n",
              "    <tr>\n",
              "      <th>2028-12-31</th>\n",
              "      <td>707.175206</td>\n",
              "      <td>318.228843</td>\n",
              "    </tr>\n",
              "    <tr>\n",
              "      <th>2029-12-31</th>\n",
              "      <td>834.466743</td>\n",
              "      <td>375.510034</td>\n",
              "    </tr>\n",
              "    <tr>\n",
              "      <th>2030-12-31</th>\n",
              "      <td>984.670757</td>\n",
              "      <td>443.101841</td>\n",
              "    </tr>\n",
              "    <tr>\n",
              "      <th>2031-12-31</th>\n",
              "      <td>1161.911493</td>\n",
              "      <td>522.860172</td>\n",
              "    </tr>\n",
              "  </tbody>\n",
              "</table>\n",
              "</div>"
            ],
            "text/plain": [
              "                revenue      EBITDA\n",
              "2022-12-31   261.960000  117.882000\n",
              "2023-12-31   309.112800  139.100760\n",
              "2024-12-31   364.753104  164.138897\n",
              "2025-12-31   430.408663  193.683898\n",
              "2026-12-31   507.882222  228.547000\n",
              "2027-12-31   599.301022  269.685460\n",
              "2028-12-31   707.175206  318.228843\n",
              "2029-12-31   834.466743  375.510034\n",
              "2030-12-31   984.670757  443.101841\n",
              "2031-12-31  1161.911493  522.860172"
            ]
          },
          "metadata": {},
          "execution_count": 281
        }
      ]
    },
    {
      "cell_type": "code",
      "metadata": {
        "colab": {
          "base_uri": "https://localhost:8080/",
          "height": 359
        },
        "id": "7PTdRQ_WYgYl",
        "outputId": "a60b892d-59a2-4e95-e8de-802bfccbb0c4"
      },
      "source": [
        "#7\n",
        "model_df['Taxes']=model_df['EBITDA']*-(tax_pct)\n",
        "model_df"
      ],
      "execution_count": 282,
      "outputs": [
        {
          "output_type": "execute_result",
          "data": {
            "text/html": [
              "<div>\n",
              "<style scoped>\n",
              "    .dataframe tbody tr th:only-of-type {\n",
              "        vertical-align: middle;\n",
              "    }\n",
              "\n",
              "    .dataframe tbody tr th {\n",
              "        vertical-align: top;\n",
              "    }\n",
              "\n",
              "    .dataframe thead th {\n",
              "        text-align: right;\n",
              "    }\n",
              "</style>\n",
              "<table border=\"1\" class=\"dataframe\">\n",
              "  <thead>\n",
              "    <tr style=\"text-align: right;\">\n",
              "      <th></th>\n",
              "      <th>revenue</th>\n",
              "      <th>EBITDA</th>\n",
              "      <th>Taxes</th>\n",
              "    </tr>\n",
              "  </thead>\n",
              "  <tbody>\n",
              "    <tr>\n",
              "      <th>2022-12-31</th>\n",
              "      <td>261.960000</td>\n",
              "      <td>117.882000</td>\n",
              "      <td>-24.755220</td>\n",
              "    </tr>\n",
              "    <tr>\n",
              "      <th>2023-12-31</th>\n",
              "      <td>309.112800</td>\n",
              "      <td>139.100760</td>\n",
              "      <td>-29.211160</td>\n",
              "    </tr>\n",
              "    <tr>\n",
              "      <th>2024-12-31</th>\n",
              "      <td>364.753104</td>\n",
              "      <td>164.138897</td>\n",
              "      <td>-34.469168</td>\n",
              "    </tr>\n",
              "    <tr>\n",
              "      <th>2025-12-31</th>\n",
              "      <td>430.408663</td>\n",
              "      <td>193.683898</td>\n",
              "      <td>-40.673619</td>\n",
              "    </tr>\n",
              "    <tr>\n",
              "      <th>2026-12-31</th>\n",
              "      <td>507.882222</td>\n",
              "      <td>228.547000</td>\n",
              "      <td>-47.994870</td>\n",
              "    </tr>\n",
              "    <tr>\n",
              "      <th>2027-12-31</th>\n",
              "      <td>599.301022</td>\n",
              "      <td>269.685460</td>\n",
              "      <td>-56.633947</td>\n",
              "    </tr>\n",
              "    <tr>\n",
              "      <th>2028-12-31</th>\n",
              "      <td>707.175206</td>\n",
              "      <td>318.228843</td>\n",
              "      <td>-66.828057</td>\n",
              "    </tr>\n",
              "    <tr>\n",
              "      <th>2029-12-31</th>\n",
              "      <td>834.466743</td>\n",
              "      <td>375.510034</td>\n",
              "      <td>-78.857107</td>\n",
              "    </tr>\n",
              "    <tr>\n",
              "      <th>2030-12-31</th>\n",
              "      <td>984.670757</td>\n",
              "      <td>443.101841</td>\n",
              "      <td>-93.051387</td>\n",
              "    </tr>\n",
              "    <tr>\n",
              "      <th>2031-12-31</th>\n",
              "      <td>1161.911493</td>\n",
              "      <td>522.860172</td>\n",
              "      <td>-109.800636</td>\n",
              "    </tr>\n",
              "  </tbody>\n",
              "</table>\n",
              "</div>"
            ],
            "text/plain": [
              "                revenue      EBITDA       Taxes\n",
              "2022-12-31   261.960000  117.882000  -24.755220\n",
              "2023-12-31   309.112800  139.100760  -29.211160\n",
              "2024-12-31   364.753104  164.138897  -34.469168\n",
              "2025-12-31   430.408663  193.683898  -40.673619\n",
              "2026-12-31   507.882222  228.547000  -47.994870\n",
              "2027-12-31   599.301022  269.685460  -56.633947\n",
              "2028-12-31   707.175206  318.228843  -66.828057\n",
              "2029-12-31   834.466743  375.510034  -78.857107\n",
              "2030-12-31   984.670757  443.101841  -93.051387\n",
              "2031-12-31  1161.911493  522.860172 -109.800636"
            ]
          },
          "metadata": {},
          "execution_count": 282
        }
      ]
    },
    {
      "cell_type": "code",
      "metadata": {
        "colab": {
          "base_uri": "https://localhost:8080/",
          "height": 359
        },
        "id": "nVwyHrjfa8an",
        "outputId": "38294e61-a6f2-4af0-dc6d-9ab10705e3be"
      },
      "source": [
        "#8\n",
        "model_df['Cap_ex']=model_df['revenue']*-(cap_ex)\n",
        "model_df"
      ],
      "execution_count": 283,
      "outputs": [
        {
          "output_type": "execute_result",
          "data": {
            "text/html": [
              "<div>\n",
              "<style scoped>\n",
              "    .dataframe tbody tr th:only-of-type {\n",
              "        vertical-align: middle;\n",
              "    }\n",
              "\n",
              "    .dataframe tbody tr th {\n",
              "        vertical-align: top;\n",
              "    }\n",
              "\n",
              "    .dataframe thead th {\n",
              "        text-align: right;\n",
              "    }\n",
              "</style>\n",
              "<table border=\"1\" class=\"dataframe\">\n",
              "  <thead>\n",
              "    <tr style=\"text-align: right;\">\n",
              "      <th></th>\n",
              "      <th>revenue</th>\n",
              "      <th>EBITDA</th>\n",
              "      <th>Taxes</th>\n",
              "      <th>Cap_ex</th>\n",
              "    </tr>\n",
              "  </thead>\n",
              "  <tbody>\n",
              "    <tr>\n",
              "      <th>2022-12-31</th>\n",
              "      <td>261.960000</td>\n",
              "      <td>117.882000</td>\n",
              "      <td>-24.755220</td>\n",
              "      <td>-7.858800</td>\n",
              "    </tr>\n",
              "    <tr>\n",
              "      <th>2023-12-31</th>\n",
              "      <td>309.112800</td>\n",
              "      <td>139.100760</td>\n",
              "      <td>-29.211160</td>\n",
              "      <td>-9.273384</td>\n",
              "    </tr>\n",
              "    <tr>\n",
              "      <th>2024-12-31</th>\n",
              "      <td>364.753104</td>\n",
              "      <td>164.138897</td>\n",
              "      <td>-34.469168</td>\n",
              "      <td>-10.942593</td>\n",
              "    </tr>\n",
              "    <tr>\n",
              "      <th>2025-12-31</th>\n",
              "      <td>430.408663</td>\n",
              "      <td>193.683898</td>\n",
              "      <td>-40.673619</td>\n",
              "      <td>-12.912260</td>\n",
              "    </tr>\n",
              "    <tr>\n",
              "      <th>2026-12-31</th>\n",
              "      <td>507.882222</td>\n",
              "      <td>228.547000</td>\n",
              "      <td>-47.994870</td>\n",
              "      <td>-15.236467</td>\n",
              "    </tr>\n",
              "    <tr>\n",
              "      <th>2027-12-31</th>\n",
              "      <td>599.301022</td>\n",
              "      <td>269.685460</td>\n",
              "      <td>-56.633947</td>\n",
              "      <td>-17.979031</td>\n",
              "    </tr>\n",
              "    <tr>\n",
              "      <th>2028-12-31</th>\n",
              "      <td>707.175206</td>\n",
              "      <td>318.228843</td>\n",
              "      <td>-66.828057</td>\n",
              "      <td>-21.215256</td>\n",
              "    </tr>\n",
              "    <tr>\n",
              "      <th>2029-12-31</th>\n",
              "      <td>834.466743</td>\n",
              "      <td>375.510034</td>\n",
              "      <td>-78.857107</td>\n",
              "      <td>-25.034002</td>\n",
              "    </tr>\n",
              "    <tr>\n",
              "      <th>2030-12-31</th>\n",
              "      <td>984.670757</td>\n",
              "      <td>443.101841</td>\n",
              "      <td>-93.051387</td>\n",
              "      <td>-29.540123</td>\n",
              "    </tr>\n",
              "    <tr>\n",
              "      <th>2031-12-31</th>\n",
              "      <td>1161.911493</td>\n",
              "      <td>522.860172</td>\n",
              "      <td>-109.800636</td>\n",
              "      <td>-34.857345</td>\n",
              "    </tr>\n",
              "  </tbody>\n",
              "</table>\n",
              "</div>"
            ],
            "text/plain": [
              "                revenue      EBITDA       Taxes     Cap_ex\n",
              "2022-12-31   261.960000  117.882000  -24.755220  -7.858800\n",
              "2023-12-31   309.112800  139.100760  -29.211160  -9.273384\n",
              "2024-12-31   364.753104  164.138897  -34.469168 -10.942593\n",
              "2025-12-31   430.408663  193.683898  -40.673619 -12.912260\n",
              "2026-12-31   507.882222  228.547000  -47.994870 -15.236467\n",
              "2027-12-31   599.301022  269.685460  -56.633947 -17.979031\n",
              "2028-12-31   707.175206  318.228843  -66.828057 -21.215256\n",
              "2029-12-31   834.466743  375.510034  -78.857107 -25.034002\n",
              "2030-12-31   984.670757  443.101841  -93.051387 -29.540123\n",
              "2031-12-31  1161.911493  522.860172 -109.800636 -34.857345"
            ]
          },
          "metadata": {},
          "execution_count": 283
        }
      ]
    },
    {
      "cell_type": "code",
      "metadata": {
        "colab": {
          "base_uri": "https://localhost:8080/",
          "height": 359
        },
        "id": "5QbOo510baX9",
        "outputId": "69082cb0-d9ff-4748-8b95-96edfecbb838"
      },
      "source": [
        "#9\n",
        "model_df['work_cap']=model_df['revenue']*-(work_cap_growth)\n",
        "model_df"
      ],
      "execution_count": 284,
      "outputs": [
        {
          "output_type": "execute_result",
          "data": {
            "text/html": [
              "<div>\n",
              "<style scoped>\n",
              "    .dataframe tbody tr th:only-of-type {\n",
              "        vertical-align: middle;\n",
              "    }\n",
              "\n",
              "    .dataframe tbody tr th {\n",
              "        vertical-align: top;\n",
              "    }\n",
              "\n",
              "    .dataframe thead th {\n",
              "        text-align: right;\n",
              "    }\n",
              "</style>\n",
              "<table border=\"1\" class=\"dataframe\">\n",
              "  <thead>\n",
              "    <tr style=\"text-align: right;\">\n",
              "      <th></th>\n",
              "      <th>revenue</th>\n",
              "      <th>EBITDA</th>\n",
              "      <th>Taxes</th>\n",
              "      <th>Cap_ex</th>\n",
              "      <th>work_cap</th>\n",
              "    </tr>\n",
              "  </thead>\n",
              "  <tbody>\n",
              "    <tr>\n",
              "      <th>2022-12-31</th>\n",
              "      <td>261.960000</td>\n",
              "      <td>117.882000</td>\n",
              "      <td>-24.755220</td>\n",
              "      <td>-7.858800</td>\n",
              "      <td>-15.717600</td>\n",
              "    </tr>\n",
              "    <tr>\n",
              "      <th>2023-12-31</th>\n",
              "      <td>309.112800</td>\n",
              "      <td>139.100760</td>\n",
              "      <td>-29.211160</td>\n",
              "      <td>-9.273384</td>\n",
              "      <td>-18.546768</td>\n",
              "    </tr>\n",
              "    <tr>\n",
              "      <th>2024-12-31</th>\n",
              "      <td>364.753104</td>\n",
              "      <td>164.138897</td>\n",
              "      <td>-34.469168</td>\n",
              "      <td>-10.942593</td>\n",
              "      <td>-21.885186</td>\n",
              "    </tr>\n",
              "    <tr>\n",
              "      <th>2025-12-31</th>\n",
              "      <td>430.408663</td>\n",
              "      <td>193.683898</td>\n",
              "      <td>-40.673619</td>\n",
              "      <td>-12.912260</td>\n",
              "      <td>-25.824520</td>\n",
              "    </tr>\n",
              "    <tr>\n",
              "      <th>2026-12-31</th>\n",
              "      <td>507.882222</td>\n",
              "      <td>228.547000</td>\n",
              "      <td>-47.994870</td>\n",
              "      <td>-15.236467</td>\n",
              "      <td>-30.472933</td>\n",
              "    </tr>\n",
              "    <tr>\n",
              "      <th>2027-12-31</th>\n",
              "      <td>599.301022</td>\n",
              "      <td>269.685460</td>\n",
              "      <td>-56.633947</td>\n",
              "      <td>-17.979031</td>\n",
              "      <td>-35.958061</td>\n",
              "    </tr>\n",
              "    <tr>\n",
              "      <th>2028-12-31</th>\n",
              "      <td>707.175206</td>\n",
              "      <td>318.228843</td>\n",
              "      <td>-66.828057</td>\n",
              "      <td>-21.215256</td>\n",
              "      <td>-42.430512</td>\n",
              "    </tr>\n",
              "    <tr>\n",
              "      <th>2029-12-31</th>\n",
              "      <td>834.466743</td>\n",
              "      <td>375.510034</td>\n",
              "      <td>-78.857107</td>\n",
              "      <td>-25.034002</td>\n",
              "      <td>-50.068005</td>\n",
              "    </tr>\n",
              "    <tr>\n",
              "      <th>2030-12-31</th>\n",
              "      <td>984.670757</td>\n",
              "      <td>443.101841</td>\n",
              "      <td>-93.051387</td>\n",
              "      <td>-29.540123</td>\n",
              "      <td>-59.080245</td>\n",
              "    </tr>\n",
              "    <tr>\n",
              "      <th>2031-12-31</th>\n",
              "      <td>1161.911493</td>\n",
              "      <td>522.860172</td>\n",
              "      <td>-109.800636</td>\n",
              "      <td>-34.857345</td>\n",
              "      <td>-69.714690</td>\n",
              "    </tr>\n",
              "  </tbody>\n",
              "</table>\n",
              "</div>"
            ],
            "text/plain": [
              "                revenue      EBITDA       Taxes     Cap_ex   work_cap\n",
              "2022-12-31   261.960000  117.882000  -24.755220  -7.858800 -15.717600\n",
              "2023-12-31   309.112800  139.100760  -29.211160  -9.273384 -18.546768\n",
              "2024-12-31   364.753104  164.138897  -34.469168 -10.942593 -21.885186\n",
              "2025-12-31   430.408663  193.683898  -40.673619 -12.912260 -25.824520\n",
              "2026-12-31   507.882222  228.547000  -47.994870 -15.236467 -30.472933\n",
              "2027-12-31   599.301022  269.685460  -56.633947 -17.979031 -35.958061\n",
              "2028-12-31   707.175206  318.228843  -66.828057 -21.215256 -42.430512\n",
              "2029-12-31   834.466743  375.510034  -78.857107 -25.034002 -50.068005\n",
              "2030-12-31   984.670757  443.101841  -93.051387 -29.540123 -59.080245\n",
              "2031-12-31  1161.911493  522.860172 -109.800636 -34.857345 -69.714690"
            ]
          },
          "metadata": {},
          "execution_count": 284
        }
      ]
    },
    {
      "cell_type": "code",
      "metadata": {
        "colab": {
          "base_uri": "https://localhost:8080/",
          "height": 359
        },
        "id": "qvx0pg1jb0x6",
        "outputId": "69b8b31f-9360-4462-b1da-76e1d2d32c8e"
      },
      "source": [
        "#10\n",
        "model_df['Cash Flow']=model_df.drop(columns=['revenue']).sum(axis=1)\n",
        "model_df"
      ],
      "execution_count": 285,
      "outputs": [
        {
          "output_type": "execute_result",
          "data": {
            "text/html": [
              "<div>\n",
              "<style scoped>\n",
              "    .dataframe tbody tr th:only-of-type {\n",
              "        vertical-align: middle;\n",
              "    }\n",
              "\n",
              "    .dataframe tbody tr th {\n",
              "        vertical-align: top;\n",
              "    }\n",
              "\n",
              "    .dataframe thead th {\n",
              "        text-align: right;\n",
              "    }\n",
              "</style>\n",
              "<table border=\"1\" class=\"dataframe\">\n",
              "  <thead>\n",
              "    <tr style=\"text-align: right;\">\n",
              "      <th></th>\n",
              "      <th>revenue</th>\n",
              "      <th>EBITDA</th>\n",
              "      <th>Taxes</th>\n",
              "      <th>Cap_ex</th>\n",
              "      <th>work_cap</th>\n",
              "      <th>Cash Flow</th>\n",
              "    </tr>\n",
              "  </thead>\n",
              "  <tbody>\n",
              "    <tr>\n",
              "      <th>2022-12-31</th>\n",
              "      <td>261.960000</td>\n",
              "      <td>117.882000</td>\n",
              "      <td>-24.755220</td>\n",
              "      <td>-7.858800</td>\n",
              "      <td>-15.717600</td>\n",
              "      <td>69.550380</td>\n",
              "    </tr>\n",
              "    <tr>\n",
              "      <th>2023-12-31</th>\n",
              "      <td>309.112800</td>\n",
              "      <td>139.100760</td>\n",
              "      <td>-29.211160</td>\n",
              "      <td>-9.273384</td>\n",
              "      <td>-18.546768</td>\n",
              "      <td>82.069448</td>\n",
              "    </tr>\n",
              "    <tr>\n",
              "      <th>2024-12-31</th>\n",
              "      <td>364.753104</td>\n",
              "      <td>164.138897</td>\n",
              "      <td>-34.469168</td>\n",
              "      <td>-10.942593</td>\n",
              "      <td>-21.885186</td>\n",
              "      <td>96.841949</td>\n",
              "    </tr>\n",
              "    <tr>\n",
              "      <th>2025-12-31</th>\n",
              "      <td>430.408663</td>\n",
              "      <td>193.683898</td>\n",
              "      <td>-40.673619</td>\n",
              "      <td>-12.912260</td>\n",
              "      <td>-25.824520</td>\n",
              "      <td>114.273500</td>\n",
              "    </tr>\n",
              "    <tr>\n",
              "      <th>2026-12-31</th>\n",
              "      <td>507.882222</td>\n",
              "      <td>228.547000</td>\n",
              "      <td>-47.994870</td>\n",
              "      <td>-15.236467</td>\n",
              "      <td>-30.472933</td>\n",
              "      <td>134.842730</td>\n",
              "    </tr>\n",
              "    <tr>\n",
              "      <th>2027-12-31</th>\n",
              "      <td>599.301022</td>\n",
              "      <td>269.685460</td>\n",
              "      <td>-56.633947</td>\n",
              "      <td>-17.979031</td>\n",
              "      <td>-35.958061</td>\n",
              "      <td>159.114421</td>\n",
              "    </tr>\n",
              "    <tr>\n",
              "      <th>2028-12-31</th>\n",
              "      <td>707.175206</td>\n",
              "      <td>318.228843</td>\n",
              "      <td>-66.828057</td>\n",
              "      <td>-21.215256</td>\n",
              "      <td>-42.430512</td>\n",
              "      <td>187.755017</td>\n",
              "    </tr>\n",
              "    <tr>\n",
              "      <th>2029-12-31</th>\n",
              "      <td>834.466743</td>\n",
              "      <td>375.510034</td>\n",
              "      <td>-78.857107</td>\n",
              "      <td>-25.034002</td>\n",
              "      <td>-50.068005</td>\n",
              "      <td>221.550920</td>\n",
              "    </tr>\n",
              "    <tr>\n",
              "      <th>2030-12-31</th>\n",
              "      <td>984.670757</td>\n",
              "      <td>443.101841</td>\n",
              "      <td>-93.051387</td>\n",
              "      <td>-29.540123</td>\n",
              "      <td>-59.080245</td>\n",
              "      <td>261.430086</td>\n",
              "    </tr>\n",
              "    <tr>\n",
              "      <th>2031-12-31</th>\n",
              "      <td>1161.911493</td>\n",
              "      <td>522.860172</td>\n",
              "      <td>-109.800636</td>\n",
              "      <td>-34.857345</td>\n",
              "      <td>-69.714690</td>\n",
              "      <td>308.487501</td>\n",
              "    </tr>\n",
              "  </tbody>\n",
              "</table>\n",
              "</div>"
            ],
            "text/plain": [
              "                revenue      EBITDA  ...   work_cap   Cash Flow\n",
              "2022-12-31   261.960000  117.882000  ... -15.717600   69.550380\n",
              "2023-12-31   309.112800  139.100760  ... -18.546768   82.069448\n",
              "2024-12-31   364.753104  164.138897  ... -21.885186   96.841949\n",
              "2025-12-31   430.408663  193.683898  ... -25.824520  114.273500\n",
              "2026-12-31   507.882222  228.547000  ... -30.472933  134.842730\n",
              "2027-12-31   599.301022  269.685460  ... -35.958061  159.114421\n",
              "2028-12-31   707.175206  318.228843  ... -42.430512  187.755017\n",
              "2029-12-31   834.466743  375.510034  ... -50.068005  221.550920\n",
              "2030-12-31   984.670757  443.101841  ... -59.080245  261.430086\n",
              "2031-12-31  1161.911493  522.860172  ... -69.714690  308.487501\n",
              "\n",
              "[10 rows x 6 columns]"
            ]
          },
          "metadata": {},
          "execution_count": 285
        }
      ]
    },
    {
      "cell_type": "code",
      "metadata": {
        "colab": {
          "base_uri": "https://localhost:8080/",
          "height": 235
        },
        "id": "Q_tNzq6jD9af",
        "outputId": "90abe435-9fc8-46c6-ed15-b347764d650e"
      },
      "source": [
        "model_df.transpose().round(00)"
      ],
      "execution_count": 286,
      "outputs": [
        {
          "output_type": "execute_result",
          "data": {
            "text/html": [
              "<div>\n",
              "<style scoped>\n",
              "    .dataframe tbody tr th:only-of-type {\n",
              "        vertical-align: middle;\n",
              "    }\n",
              "\n",
              "    .dataframe tbody tr th {\n",
              "        vertical-align: top;\n",
              "    }\n",
              "\n",
              "    .dataframe thead th {\n",
              "        text-align: right;\n",
              "    }\n",
              "</style>\n",
              "<table border=\"1\" class=\"dataframe\">\n",
              "  <thead>\n",
              "    <tr style=\"text-align: right;\">\n",
              "      <th></th>\n",
              "      <th>2022-12-31</th>\n",
              "      <th>2023-12-31</th>\n",
              "      <th>2024-12-31</th>\n",
              "      <th>2025-12-31</th>\n",
              "      <th>2026-12-31</th>\n",
              "      <th>2027-12-31</th>\n",
              "      <th>2028-12-31</th>\n",
              "      <th>2029-12-31</th>\n",
              "      <th>2030-12-31</th>\n",
              "      <th>2031-12-31</th>\n",
              "    </tr>\n",
              "  </thead>\n",
              "  <tbody>\n",
              "    <tr>\n",
              "      <th>revenue</th>\n",
              "      <td>262.0</td>\n",
              "      <td>309.0</td>\n",
              "      <td>365.0</td>\n",
              "      <td>430.0</td>\n",
              "      <td>508.0</td>\n",
              "      <td>599.0</td>\n",
              "      <td>707.0</td>\n",
              "      <td>834.0</td>\n",
              "      <td>985.0</td>\n",
              "      <td>1162.0</td>\n",
              "    </tr>\n",
              "    <tr>\n",
              "      <th>EBITDA</th>\n",
              "      <td>118.0</td>\n",
              "      <td>139.0</td>\n",
              "      <td>164.0</td>\n",
              "      <td>194.0</td>\n",
              "      <td>229.0</td>\n",
              "      <td>270.0</td>\n",
              "      <td>318.0</td>\n",
              "      <td>376.0</td>\n",
              "      <td>443.0</td>\n",
              "      <td>523.0</td>\n",
              "    </tr>\n",
              "    <tr>\n",
              "      <th>Taxes</th>\n",
              "      <td>-25.0</td>\n",
              "      <td>-29.0</td>\n",
              "      <td>-34.0</td>\n",
              "      <td>-41.0</td>\n",
              "      <td>-48.0</td>\n",
              "      <td>-57.0</td>\n",
              "      <td>-67.0</td>\n",
              "      <td>-79.0</td>\n",
              "      <td>-93.0</td>\n",
              "      <td>-110.0</td>\n",
              "    </tr>\n",
              "    <tr>\n",
              "      <th>Cap_ex</th>\n",
              "      <td>-8.0</td>\n",
              "      <td>-9.0</td>\n",
              "      <td>-11.0</td>\n",
              "      <td>-13.0</td>\n",
              "      <td>-15.0</td>\n",
              "      <td>-18.0</td>\n",
              "      <td>-21.0</td>\n",
              "      <td>-25.0</td>\n",
              "      <td>-30.0</td>\n",
              "      <td>-35.0</td>\n",
              "    </tr>\n",
              "    <tr>\n",
              "      <th>work_cap</th>\n",
              "      <td>-16.0</td>\n",
              "      <td>-19.0</td>\n",
              "      <td>-22.0</td>\n",
              "      <td>-26.0</td>\n",
              "      <td>-30.0</td>\n",
              "      <td>-36.0</td>\n",
              "      <td>-42.0</td>\n",
              "      <td>-50.0</td>\n",
              "      <td>-59.0</td>\n",
              "      <td>-70.0</td>\n",
              "    </tr>\n",
              "    <tr>\n",
              "      <th>Cash Flow</th>\n",
              "      <td>70.0</td>\n",
              "      <td>82.0</td>\n",
              "      <td>97.0</td>\n",
              "      <td>114.0</td>\n",
              "      <td>135.0</td>\n",
              "      <td>159.0</td>\n",
              "      <td>188.0</td>\n",
              "      <td>222.0</td>\n",
              "      <td>261.0</td>\n",
              "      <td>308.0</td>\n",
              "    </tr>\n",
              "  </tbody>\n",
              "</table>\n",
              "</div>"
            ],
            "text/plain": [
              "           2022-12-31  2023-12-31  ...  2030-12-31  2031-12-31\n",
              "revenue         262.0       309.0  ...       985.0      1162.0\n",
              "EBITDA          118.0       139.0  ...       443.0       523.0\n",
              "Taxes           -25.0       -29.0  ...       -93.0      -110.0\n",
              "Cap_ex           -8.0        -9.0  ...       -30.0       -35.0\n",
              "work_cap        -16.0       -19.0  ...       -59.0       -70.0\n",
              "Cash Flow        70.0        82.0  ...       261.0       308.0\n",
              "\n",
              "[6 rows x 10 columns]"
            ]
          },
          "metadata": {},
          "execution_count": 286
        }
      ]
    },
    {
      "cell_type": "code",
      "metadata": {
        "colab": {
          "base_uri": "https://localhost:8080/",
          "height": 359
        },
        "id": "wYfVxpb4eFtW",
        "outputId": "afa3c088-7d24-4080-d29c-9c5826f8f21a"
      },
      "source": [
        "#11\n",
        "discount_factor=[discount_factor** i for i in range (1,len(dates)+1)]\n",
        "discount_table=pandas.DataFrame(index=discount_factor)\n",
        "discount_table['present_value_fcf']=discount_factor*model_df['Cash Flow'].values\n",
        "discount_table"
      ],
      "execution_count": 287,
      "outputs": [
        {
          "output_type": "execute_result",
          "data": {
            "text/html": [
              "<div>\n",
              "<style scoped>\n",
              "    .dataframe tbody tr th:only-of-type {\n",
              "        vertical-align: middle;\n",
              "    }\n",
              "\n",
              "    .dataframe tbody tr th {\n",
              "        vertical-align: top;\n",
              "    }\n",
              "\n",
              "    .dataframe thead th {\n",
              "        text-align: right;\n",
              "    }\n",
              "</style>\n",
              "<table border=\"1\" class=\"dataframe\">\n",
              "  <thead>\n",
              "    <tr style=\"text-align: right;\">\n",
              "      <th></th>\n",
              "      <th>present_value_fcf</th>\n",
              "    </tr>\n",
              "  </thead>\n",
              "  <tbody>\n",
              "    <tr>\n",
              "      <th>0.940000</th>\n",
              "      <td>65.377357</td>\n",
              "    </tr>\n",
              "    <tr>\n",
              "      <th>0.883600</th>\n",
              "      <td>72.516565</td>\n",
              "    </tr>\n",
              "    <tr>\n",
              "      <th>0.830584</th>\n",
              "      <td>80.435373</td>\n",
              "    </tr>\n",
              "    <tr>\n",
              "      <th>0.780749</th>\n",
              "      <td>89.218916</td>\n",
              "    </tr>\n",
              "    <tr>\n",
              "      <th>0.733904</th>\n",
              "      <td>98.961622</td>\n",
              "    </tr>\n",
              "    <tr>\n",
              "      <th>0.689870</th>\n",
              "      <td>109.768231</td>\n",
              "    </tr>\n",
              "    <tr>\n",
              "      <th>0.648478</th>\n",
              "      <td>121.754922</td>\n",
              "    </tr>\n",
              "    <tr>\n",
              "      <th>0.609569</th>\n",
              "      <td>135.050559</td>\n",
              "    </tr>\n",
              "    <tr>\n",
              "      <th>0.572995</th>\n",
              "      <td>149.798080</td>\n",
              "    </tr>\n",
              "    <tr>\n",
              "      <th>0.538615</th>\n",
              "      <td>166.156031</td>\n",
              "    </tr>\n",
              "  </tbody>\n",
              "</table>\n",
              "</div>"
            ],
            "text/plain": [
              "          present_value_fcf\n",
              "0.940000          65.377357\n",
              "0.883600          72.516565\n",
              "0.830584          80.435373\n",
              "0.780749          89.218916\n",
              "0.733904          98.961622\n",
              "0.689870         109.768231\n",
              "0.648478         121.754922\n",
              "0.609569         135.050559\n",
              "0.572995         149.798080\n",
              "0.538615         166.156031"
            ]
          },
          "metadata": {},
          "execution_count": 287
        }
      ]
    },
    {
      "cell_type": "code",
      "metadata": {
        "colab": {
          "base_uri": "https://localhost:8080/"
        },
        "id": "US-YbP0w85dA",
        "outputId": "75b26864-016f-475c-88e7-3d54d6137c39"
      },
      "source": [
        "#12\n",
        "pv=present_Value_of_projected_CF=discount_table['present_value_fcf'].sum()\n",
        "pv.round()"
      ],
      "execution_count": 288,
      "outputs": [
        {
          "output_type": "execute_result",
          "data": {
            "text/plain": [
              "1089.0"
            ]
          },
          "metadata": {},
          "execution_count": 288
        }
      ]
    },
    {
      "cell_type": "code",
      "metadata": {
        "id": "fHhKlBXE-MSN"
      },
      "source": [
        "#13 \n",
        "terminal_frame=pandas.DataFrame(index=['2032'])\n",
        "terminal_frame['revenue']=model_df['revenue'].iloc[-1]*growth_factor\n",
        "terminal_frame['EBITDA']=terminal_frame['revenue']*EBITDA_margin\n"
      ],
      "execution_count": 289,
      "outputs": []
    },
    {
      "cell_type": "code",
      "metadata": {
        "id": "mEEsUHkIDhte"
      },
      "source": [
        "rev_2032=terminal_frame[['revenue']].round()"
      ],
      "execution_count": 290,
      "outputs": []
    },
    {
      "cell_type": "code",
      "metadata": {
        "colab": {
          "base_uri": "https://localhost:8080/"
        },
        "id": "F4g8kXHLO1-g",
        "outputId": "011c4989-1e9c-4b69-90aa-75efaa4b4d4a"
      },
      "source": [
        "EBITDA_2032=terminal_frame['EBITDA']\n",
        "EBITDA_2032.round()"
      ],
      "execution_count": 291,
      "outputs": [
        {
          "output_type": "execute_result",
          "data": {
            "text/plain": [
              "2032    617.0\n",
              "Name: EBITDA, dtype: float64"
            ]
          },
          "metadata": {},
          "execution_count": 291
        }
      ]
    },
    {
      "cell_type": "code",
      "metadata": {
        "colab": {
          "base_uri": "https://localhost:8080/",
          "height": 80
        },
        "id": "Yq8TgGjPDlM6",
        "outputId": "0c20180e-9386-43d2-de4f-aba7799f6ccc"
      },
      "source": [
        "rev_2032"
      ],
      "execution_count": 292,
      "outputs": [
        {
          "output_type": "execute_result",
          "data": {
            "text/html": [
              "<div>\n",
              "<style scoped>\n",
              "    .dataframe tbody tr th:only-of-type {\n",
              "        vertical-align: middle;\n",
              "    }\n",
              "\n",
              "    .dataframe tbody tr th {\n",
              "        vertical-align: top;\n",
              "    }\n",
              "\n",
              "    .dataframe thead th {\n",
              "        text-align: right;\n",
              "    }\n",
              "</style>\n",
              "<table border=\"1\" class=\"dataframe\">\n",
              "  <thead>\n",
              "    <tr style=\"text-align: right;\">\n",
              "      <th></th>\n",
              "      <th>revenue</th>\n",
              "    </tr>\n",
              "  </thead>\n",
              "  <tbody>\n",
              "    <tr>\n",
              "      <th>2032</th>\n",
              "      <td>1371.0</td>\n",
              "    </tr>\n",
              "  </tbody>\n",
              "</table>\n",
              "</div>"
            ],
            "text/plain": [
              "      revenue\n",
              "2032   1371.0"
            ]
          },
          "metadata": {},
          "execution_count": 292
        }
      ]
    },
    {
      "cell_type": "code",
      "metadata": {
        "colab": {
          "base_uri": "https://localhost:8080/"
        },
        "id": "Rjrixki4ACrg",
        "outputId": "f10c09aa-091f-4b92-9513-a4ed06ddd0ba"
      },
      "source": [
        "terminal_frame['terminal_valuation']=terminal_frame['EBITDA']* exit_multiple+present_Value_of_projected_CF\n",
        "T_F=terminal_frame['terminal_valuation'].round()\n",
        "T_F\n"
      ],
      "execution_count": 293,
      "outputs": [
        {
          "output_type": "execute_result",
          "data": {
            "text/plain": [
              "2032    21264.0\n",
              "Name: terminal_valuation, dtype: float64"
            ]
          },
          "metadata": {},
          "execution_count": 293
        }
      ]
    },
    {
      "cell_type": "code",
      "metadata": {
        "colab": {
          "base_uri": "https://localhost:8080/"
        },
        "id": "g2hFxCvVHIZ-",
        "outputId": "f56b85f8-4a28-4959-f6b3-90f2bf7f695b"
      },
      "source": [
        "print(f\"\"\"Our projected Present Value of Projected Future Cash Flows are: {pv.round()}\n",
        "We are providing revenue guidance in 2032 to be:{rev_2032.values}\n",
        "With an estimated EBITDA around:{EBITDA_2032.values.round()}\n",
        "\n",
        "The terminal value at this time given a multiple of {exit_multiple} and the above EBITDA for 2032, would equal: {T_F.values.round()}.\"\"\")"
      ],
      "execution_count": 294,
      "outputs": [
        {
          "output_type": "stream",
          "name": "stdout",
          "text": [
            "Our projected Present Value of Projected Future Cash Flows are: 1089.0\n",
            "We are providing revenue guidance in 2032 to be:[[1371.]]\n",
            "With an estimated EBITDA around:[617.]\n",
            "\n",
            "The terminal value at this time given a multiple of 32.7 and the above EBITDA for 2032, would equal: [21264.].\n"
          ]
        }
      ]
    }
  ]
}